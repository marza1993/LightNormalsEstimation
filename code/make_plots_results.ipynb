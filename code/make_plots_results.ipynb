{
 "cells": [
  {
   "cell_type": "code",
   "execution_count": 1,
   "id": "56c6519d",
   "metadata": {
    "ExecuteTime": {
     "end_time": "2022-09-22T14:33:25.386052Z",
     "start_time": "2022-09-22T14:33:25.382422Z"
    }
   },
   "outputs": [],
   "source": [
    "import os\n",
    "import matplotlib.pyplot as plt\n",
    "import numpy as np"
   ]
  },
  {
   "cell_type": "code",
   "execution_count": 19,
   "id": "3aaad4d3",
   "metadata": {
    "ExecuteTime": {
     "end_time": "2022-09-22T14:33:35.161097Z",
     "start_time": "2022-09-22T14:33:35.158125Z"
    }
   },
   "outputs": [],
   "source": [
    "# dataset_name = \"VIDIT\"\n",
    "# dataset_name = \"SID2\"\n",
    "# dataset_name = \"synthetic\"\n",
    "dataset_name = \"outdoor\"\n",
    "normalize = 0\n",
    "n_epochs_fine_tuning = 10"
   ]
  },
  {
   "cell_type": "code",
   "execution_count": 21,
   "id": "657df2fe",
   "metadata": {
    "ExecuteTime": {
     "end_time": "2022-09-22T14:34:02.091795Z",
     "start_time": "2022-09-22T14:34:02.083152Z"
    }
   },
   "outputs": [
    {
     "name": "stdout",
     "output_type": "stream",
     "text": [
      "4080\n"
     ]
    }
   ],
   "source": [
    "# file_paths = [\"./test_predictions_only_light_fine_tuning_\" + dataset_name + \n",
    "#                                       \"/plots/angular_errors.csv\",\n",
    "#               \"./test_predictions_phong_plus_fine_tuning_\" + dataset_name + \"/plots/angular_errors.csv\"\n",
    "#               ]\n",
    "\n",
    "\n",
    "# file_paths = [\"./test_predictions_phong_plus_no_fine_tuning_\" + dataset_name + \"/plots/angular_errors.csv\",\n",
    "#               \"./test_predictions_phong_plus_fine_tuning_10_epochs_\" + dataset_name + \"/plots/angular_errors.csv\",\n",
    "#               \"./test_predictions_phong_plus_fine_tuning_\" + dataset_name + \"/plots/angular_errors.csv\"\n",
    "#               ]\n",
    "\n",
    "\n",
    "file_paths = [\"./test_predictions_only_light_\" + dataset_name + \"/plots/angular_errors.csv\",\n",
    "              \"./test_predictions_phong_plus_\" + dataset_name + \"/plots/angular_errors.csv\"\n",
    "              ]\n",
    "\n",
    "# file_paths = [\"./test_predictions_only_light_model_fine_tuning_\" + str(n_epochs_fine_tuning)+ \"_epochs_\" + dataset_name + \"/plots/angular_errors.csv\",\n",
    "#               \"./test_predictions_phong_plus_fine_tuning_\" + str(n_epochs_fine_tuning) + \"_epochs_\" + dataset_name + \"/plots/angular_errors.csv\"\n",
    "#               ]\n",
    "\n",
    "# file_paths = [\"./test_predictions_only_light_full_train_\" + dataset_name + \"/plots/angular_errors.csv\",\n",
    "#               \"./test_predictions_phong_plus_full_train_\" + dataset_name + \"/plots/angular_errors.csv\"\n",
    "#               ]\n",
    "\n",
    "lines_files = {}\n",
    "for file_path in file_paths:\n",
    "    with open(file_path, 'r') as f:\n",
    "        lines = f.readlines()\n",
    "        lines = lines[2:]\n",
    "        lines_files[file_path] = lines\n",
    "        n_imgs = int(lines[-1].split(\";\")[-1])\n",
    "        \n",
    "print(n_imgs)"
   ]
  },
  {
   "cell_type": "code",
   "execution_count": 22,
   "id": "7b910283",
   "metadata": {
    "ExecuteTime": {
     "end_time": "2022-09-22T14:35:50.592188Z",
     "start_time": "2022-09-22T14:35:50.586819Z"
    }
   },
   "outputs": [],
   "source": [
    "angular_err = {i:[] for i in range(0,180)}\n",
    "\n",
    "divisor = n_imgs * normalize + 1 * (1 - normalize)\n",
    "\n",
    "for file_path in lines_files.keys():\n",
    "    for line in lines_files[file_path]:\n",
    "        tokens = line.split(\";\")\n",
    "        angular_err[int(tokens[0])].append(float(tokens[1])/divisor)"
   ]
  },
  {
   "cell_type": "code",
   "execution_count": 23,
   "id": "432c3a5e",
   "metadata": {
    "ExecuteTime": {
     "end_time": "2022-09-22T14:36:03.653931Z",
     "start_time": "2022-09-22T14:35:58.317107Z"
    }
   },
   "outputs": [
    {
     "data": {
      "image/png": "[encoded data removed]",
      "text/plain": [
       "<Figure size 432x288 with 1 Axes>"
      ]
     },
     "metadata": {
      "needs_background": "light"
     },
     "output_type": "display_data"
    }
   ],
   "source": [
    "# title = \"Cumulative angular error on \" + dataset_name + \" dataset - light only VS fusion - FT10\"\n",
    "title = \"Cumulative angular error on \" + dataset_name + \" dataset - light only VS fusion\"\n",
    "# title = \"Cumulative angular error on \" + dataset_name + \" dataset\"\n",
    "# plt.title(title)\n",
    "\n",
    "\n",
    "x = []\n",
    "auc = []\n",
    "for j in range(len(file_paths)):\n",
    "    x.append(np.array([angular_err[i][j] for i in angular_err.keys()]))\n",
    "    auc.append(np.sum(x[-1]) / (n_imgs * 180.0))\n",
    "    \n",
    "x = np.array(x)\n",
    "\n",
    "for i in range(len(file_paths)):\n",
    "    plt.plot(x[i])\n",
    "    # plt.step(np.arange(180), x[i])\n",
    "    \n",
    "plt.plot(np.linspace(0, n_imgs * (1-normalize) + normalize, 179),\"--\")\n",
    "         \n",
    "plt.legend([\"Light only model - norm. AUC: {:6.3f}\".format(auc[0]), \n",
    "            \"Fusion model - norm. AUC: {:6.3f}\".format(auc[1]),\n",
    "            \"random guess - norm. AUC: 0.5\"])\n",
    "\n",
    "# plt.legend([\"no FT - norm. AUC: {:6.3f}\".format(auc[0]), \n",
    "#             \"FT 20 epochs - norm. AUC: {:6.3f}\".format(auc[1]),\n",
    "#             \"FT 50 epochs - norm. AUC: {:6.3f}\".format(auc[2]),\n",
    "#             \"random guess - norm. AUC: 0.5\"])\n",
    "\n",
    "# plt.savefig(\"graph.pdf\", bbox_inches=\"tight\", dpi=600)\n",
    "plt.savefig(\"graph.pdf\", bbox_inches=\"tight\")\n",
    "plt.show()\n",
    "plt.close()\n",
    "\n"
   ]
  },
  {
   "cell_type": "code",
   "execution_count": null,
   "id": "5a711aa3",
   "metadata": {},
   "outputs": [],
   "source": []
  }
 ],
 "metadata": {
  "kernelspec": {
   "display_name": "tensorflow_2_7_0",
   "language": "python",
   "name": "python3"
  },
  "language_info": {
   "codemirror_mode": {
    "name": "ipython",
    "version": 3
   },
   "file_extension": ".py",
   "mimetype": "text/x-python",
   "name": "python",
   "nbconvert_exporter": "python",
   "pygments_lexer": "ipython3",
   "version": "3.7.8"
  },
  "toc": {
   "base_numbering": 1,
   "nav_menu": {},
   "number_sections": false,
   "sideBar": true,
   "skip_h1_title": false,
   "title_cell": "Table of Contents",
   "title_sidebar": "Contents",
   "toc_cell": false,
   "toc_position": {},
   "toc_section_display": true,
   "toc_window_display": false
  },
  "vscode": {
   "interpreter": {
    "hash": "87e1e4a6264c9f596936684cd89cf598558b8635a020ad0bc36c51072bba6cef"
   }
  }
 },
 "nbformat": 4,
 "nbformat_minor": 5
}
